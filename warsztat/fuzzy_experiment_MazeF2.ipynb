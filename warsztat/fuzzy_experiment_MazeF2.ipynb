{
 "cells": [
  {
   "cell_type": "code",
   "execution_count": 42,
   "metadata": {},
   "outputs": [],
   "source": [
    "from lcs.agents.facs2 import fACS2, Configuration\n",
    "from lcs.agents.facs2.adapters.WoodsFuzzyEnvironmentAdapter import WoodsFuzzyEnvironmentAdapter\n",
    "from lcs.agents.facs2.adapters.Mazev2FuzzyEnvironmentAdapter import Mazev2FuzzyEnvironmentAdapter\n",
    "from lcs.metrics import population_metrics\n",
    "import gym\n",
    "import gym_maze\n",
    "import gym_woods\n",
    "import logging\n",
    "\n",
    "import pandas as pd\n",
    "import numpy as np\n",
    "from scipy.misc import face\n",
    "\n",
    "logging.basicConfig(level=logging.INFO)\n",
    "\n",
    "def _maze_knowledge(population, environment) -> float:\n",
    "    # zazanczyć poprawki do podanej metryki knowledge!!!!!!\n",
    "    \n",
    "    transitions = environment.env.get_transitions()\n",
    "\n",
    "    # Take into consideration only reliable classifiers\n",
    "    reliable_classifiers = [c for c in population if c.is_reliable()]\n",
    "\n",
    "    print(len(reliable_classifiers))\n",
    "\n",
    "    # Count how many transitions are anticipated correctly\n",
    "    nr_correct = 0\n",
    "\n",
    "    # For all possible destinations from each path cell\n",
    "    for start, action, end in transitions:\n",
    "\n",
    "        p0 = environment.env.maze.perception(start)\n",
    "        p1 = environment.env.maze.perception(end)\n",
    "\n",
    "        if any([True for cl in reliable_classifiers\n",
    "                #if cl.predicts_successfully(p0, action, p1)]):\n",
    "                if cl.does_match(p0) and cl.action == action]):\n",
    "            nr_correct += 1\n",
    "\n",
    "    return nr_correct / len(transitions) * 100.0\n",
    "\n",
    "\n",
    "def basic_metrics(agent, env):\n",
    "    pop = agent.population\n",
    "    metrics = population_metrics(pop, env)\n",
    "    return metrics\n",
    "\n",
    "def _maze_metrics(agent, env):\n",
    "    pop = agent.population\n",
    "    metrics = {\n",
    "        'knowledge': _maze_knowledge(pop, env)\n",
    "    }\n",
    "\n",
    "    # Add basic population metrics\n",
    "    metrics.update(population_metrics(pop, env))\n",
    "    \n",
    "    return metrics\n",
    "\n",
    "cfg_lin_2 = Configuration(\n",
    "    classifier_length=Mazev2FuzzyEnvironmentAdapter.condition_length,\n",
    "    number_of_possible_actions=8,\n",
    "    epsilon=0.9,\n",
    "    user_metrics_collector_fcn=_maze_metrics,\n",
    "    aggregation_method='sum_to_two',\n",
    "    fuzzy_function='linear',\n",
    "    do_ga=True\n",
    "    )\n",
    "\n",
    "cfg_lin_3 = Configuration(\n",
    "    classifier_length=9,#Mazev2FuzzyEnvironmentAdapter.condition_length,\n",
    "    number_of_possible_actions=8,\n",
    "    epsilon=0.9,\n",
    "    user_metrics_collector_fcn=_maze_metrics,\n",
    "    aggregation_method='sum_to_three',\n",
    "    fuzzy_function='linear',\n",
    "    do_ga=True\n",
    "    )\n",
    "\n",
    "cfg_sig_2 = Configuration(\n",
    "    classifier_length=Mazev2FuzzyEnvironmentAdapter.condition_length,\n",
    "    number_of_possible_actions=8,\n",
    "    epsilon=0.9,\n",
    "    user_metrics_collector_fcn=_maze_metrics,\n",
    "    aggregation_method='sum_to_two',\n",
    "    #theta_r=0.1,\n",
    "    fuzzy_function='sigmoid',\n",
    "    do_ga=True\n",
    "    )\n",
    "\n",
    "cfg_sig_3 = Configuration(\n",
    "    classifier_length=9,#Mazev2FuzzyEnvironmentAdapter.condition_length,\n",
    "    number_of_possible_actions=8,\n",
    "    epsilon=0.9,\n",
    "    user_metrics_collector_fcn=_maze_metrics,\n",
    "    aggregation_method='sum_to_three',\n",
    "    fuzzy_function='sigmoid'\n",
    "    #do_ga=True\n",
    "    )\n",
    "\n",
    "\n",
    "environment_name = 'MazeF2-v0'\n",
    "env = Mazev2FuzzyEnvironmentAdapter(gym.make(environment_name))\n",
    "\n",
    "trial = 150\n",
    "repeats = 10\n"
   ]
  },
  {
   "cell_type": "code",
   "execution_count": 43,
   "metadata": {},
   "outputs": [],
   "source": [
    "def calculate_step_mean(arr, step:int=3):\n",
    "    len = arr.size-1\n",
    "    new_arr = []\n",
    "    new_arr.append(arr[0])\n",
    "    for i in range(1,len): \n",
    "        #print(arr[i-1:i+2:1])   \n",
    "        new_arr.append(np.mean(arr[i-1:i+2:1]))\n",
    "\n",
    "    new_arr.append(arr[-1])\n",
    "    return new_arr\n",
    "\n",
    "#calculate_step_mean(np.array([1,2,10,3,4,7,15,2,8]))"
   ]
  },
  {
   "cell_type": "code",
   "execution_count": 44,
   "metadata": {},
   "outputs": [],
   "source": [
    "def make_experiment(cfg, env, trial, repeats):\n",
    "    logging.basicConfig(level=logging.INFO)\n",
    "    agent = fACS2(cfg)\n",
    "\n",
    "    gen_pop = []#np.array([])\n",
    "    gen_rel = []#np.array([])\n",
    "\n",
    "    for i in range(repeats):\n",
    "        pop = []\n",
    "        rel = []\n",
    "        agent_explore = agent.explore(env, trial)\n",
    "\n",
    "        print(agent_explore)\n",
    "\n",
    "        for j in range(trial):\n",
    "            pop.append(agent_explore[j]['population'])\n",
    "            rel.append(agent_explore[j]['reliable'])\n",
    "\n",
    "        pop = np.array(pop)\n",
    "        rel = np.array(rel)\n",
    "\n",
    "        pop = calculate_step_mean(pop)\n",
    "        rel = calculate_step_mean(rel)\n",
    "\n",
    "        gen_pop.append(pop)\n",
    "        gen_rel.append(rel)\n",
    "\n",
    "        logging.info(f'Repeats {i} of {repeats-1}')\n",
    "        #print(f'Repeats {i} of {repeats}')\n",
    "\n",
    "    return np.array(gen_pop).mean(axis=0), np.array(gen_rel).mean(axis=0)\n",
    "\n",
    "    #gen_pop_mean_lin_2 = np.array(gen_pop).mean(axis=0)\n",
    "    #gen_rel_mean_lin_2 = np.array(gen_rel).mean(axis=0)"
   ]
  },
  {
   "cell_type": "code",
   "execution_count": 45,
   "metadata": {},
   "outputs": [
    {
     "name": "stderr",
     "output_type": "stream",
     "text": [
      "INFO:lcs.agents.Agent:{'trial': 1, 'steps_in_trial': 28, 'reward': 1000, 'perf_time': 0.13120250098290853, 'knowledge': 0.0, 'population': 18, 'numerosity': 18, 'reliable': 0}\n"
     ]
    },
    {
     "name": "stdout",
     "output_type": "stream",
     "text": [
      "sigmoid\n",
      "0\n"
     ]
    },
    {
     "name": "stderr",
     "output_type": "stream",
     "text": [
      "INFO:lcs.agents.Agent:{'trial': 2, 'steps_in_trial': 50, 'reward': 0, 'perf_time': 0.46165049899718724, 'knowledge': 0.0, 'population': 65, 'numerosity': 65, 'reliable': 0}\n"
     ]
    },
    {
     "name": "stdout",
     "output_type": "stream",
     "text": [
      "0\n"
     ]
    },
    {
     "name": "stderr",
     "output_type": "stream",
     "text": [
      "INFO:lcs.agents.Agent:{'trial': 3, 'steps_in_trial': 50, 'reward': 0, 'perf_time': 0.9321760290185921, 'knowledge': 0.0, 'population': 183, 'numerosity': 183, 'reliable': 0}\n"
     ]
    },
    {
     "name": "stdout",
     "output_type": "stream",
     "text": [
      "0\n"
     ]
    },
    {
     "name": "stderr",
     "output_type": "stream",
     "text": [
      "INFO:lcs.agents.Agent:{'trial': 4, 'steps_in_trial': 50, 'reward': 0, 'perf_time': 2.4645574299793225, 'knowledge': 23.52941176470588, 'population': 380, 'numerosity': 380, 'reliable': 2}\n"
     ]
    },
    {
     "name": "stdout",
     "output_type": "stream",
     "text": [
      "2\n"
     ]
    },
    {
     "name": "stderr",
     "output_type": "stream",
     "text": [
      "INFO:lcs.agents.Agent:{'trial': 5, 'steps_in_trial': 50, 'reward': 0, 'perf_time': 4.9055060139799025, 'knowledge': 17.647058823529413, 'population': 646, 'numerosity': 646, 'reliable': 2}\n"
     ]
    },
    {
     "name": "stdout",
     "output_type": "stream",
     "text": [
      "2\n"
     ]
    },
    {
     "name": "stderr",
     "output_type": "stream",
     "text": [
      "INFO:lcs.agents.Agent:{'trial': 6, 'steps_in_trial': 50, 'reward': 0, 'perf_time': 7.1970359990082216, 'knowledge': 11.76470588235294, 'population': 907, 'numerosity': 907, 'reliable': 3}\n"
     ]
    },
    {
     "name": "stdout",
     "output_type": "stream",
     "text": [
      "3\n"
     ]
    },
    {
     "name": "stderr",
     "output_type": "stream",
     "text": [
      "INFO:lcs.agents.Agent:{'trial': 7, 'steps_in_trial': 27, 'reward': 1000, 'perf_time': 3.643234646995552, 'knowledge': 47.05882352941176, 'population': 1091, 'numerosity': 1091, 'reliable': 7}\n"
     ]
    },
    {
     "name": "stdout",
     "output_type": "stream",
     "text": [
      "7\n"
     ]
    },
    {
     "name": "stderr",
     "output_type": "stream",
     "text": [
      "INFO:lcs.agents.Agent:{'trial': 8, 'steps_in_trial': 50, 'reward': 0, 'perf_time': 15.485156713984907, 'knowledge': 41.17647058823529, 'population': 1321, 'numerosity': 1321, 'reliable': 15}\n"
     ]
    },
    {
     "name": "stdout",
     "output_type": "stream",
     "text": [
      "15\n"
     ]
    },
    {
     "name": "stderr",
     "output_type": "stream",
     "text": [
      "INFO:lcs.agents.Agent:{'trial': 9, 'steps_in_trial': 4, 'reward': 1000, 'perf_time': 1.15545461900183, 'knowledge': 41.17647058823529, 'population': 1371, 'numerosity': 1371, 'reliable': 19}\n"
     ]
    },
    {
     "name": "stdout",
     "output_type": "stream",
     "text": [
      "19\n"
     ]
    },
    {
     "name": "stderr",
     "output_type": "stream",
     "text": [
      "INFO:lcs.agents.Agent:{'trial': 10, 'steps_in_trial': 9, 'reward': 1000, 'perf_time': 1.3665370719972998, 'knowledge': 47.05882352941176, 'population': 1438, 'numerosity': 1438, 'reliable': 21}\n",
      "INFO:root:Repeats 0 of 0\n"
     ]
    },
    {
     "name": "stdout",
     "output_type": "stream",
     "text": [
      "21\n",
      "[{'trial': 1, 'steps_in_trial': 28, 'reward': 1000, 'perf_time': 0.13120250098290853, 'knowledge': 0.0, 'population': 18, 'numerosity': 18, 'reliable': 0}, {'trial': 2, 'steps_in_trial': 50, 'reward': 0, 'perf_time': 0.46165049899718724, 'knowledge': 0.0, 'population': 65, 'numerosity': 65, 'reliable': 0}, {'trial': 3, 'steps_in_trial': 50, 'reward': 0, 'perf_time': 0.9321760290185921, 'knowledge': 0.0, 'population': 183, 'numerosity': 183, 'reliable': 0}, {'trial': 4, 'steps_in_trial': 50, 'reward': 0, 'perf_time': 2.4645574299793225, 'knowledge': 23.52941176470588, 'population': 380, 'numerosity': 380, 'reliable': 2}, {'trial': 5, 'steps_in_trial': 50, 'reward': 0, 'perf_time': 4.9055060139799025, 'knowledge': 17.647058823529413, 'population': 646, 'numerosity': 646, 'reliable': 2}, {'trial': 6, 'steps_in_trial': 50, 'reward': 0, 'perf_time': 7.1970359990082216, 'knowledge': 11.76470588235294, 'population': 907, 'numerosity': 907, 'reliable': 3}, {'trial': 7, 'steps_in_trial': 27, 'reward': 1000, 'perf_time': 3.643234646995552, 'knowledge': 47.05882352941176, 'population': 1091, 'numerosity': 1091, 'reliable': 7}, {'trial': 8, 'steps_in_trial': 50, 'reward': 0, 'perf_time': 15.485156713984907, 'knowledge': 41.17647058823529, 'population': 1321, 'numerosity': 1321, 'reliable': 15}, {'trial': 9, 'steps_in_trial': 4, 'reward': 1000, 'perf_time': 1.15545461900183, 'knowledge': 41.17647058823529, 'population': 1371, 'numerosity': 1371, 'reliable': 19}, {'trial': 10, 'steps_in_trial': 9, 'reward': 1000, 'perf_time': 1.3665370719972998, 'knowledge': 47.05882352941176, 'population': 1438, 'numerosity': 1438, 'reliable': 21}]\n"
     ]
    }
   ],
   "source": [
    "pop_sig_3, rel_sig_3 = make_experiment(cfg_sig_3,env,10,1)\n",
    "#pop_sig_3 = np.load('pop_sig_3.npy')\n",
    "#rel_sig_3 = np.load('rel_sig_3.npy')"
   ]
  },
  {
   "cell_type": "code",
   "execution_count": 29,
   "metadata": {},
   "outputs": [],
   "source": [
    "\n",
    "#pop_lin_2, rel_lin_2 = make_experiment(cfg_lin_2,env,150,10)\n",
    "pop_lin_2 = np.load('pop_lin_2.npy')\n",
    "rel_lin_2 = np.load('rel_lin_2.npy')"
   ]
  },
  {
   "cell_type": "code",
   "execution_count": 30,
   "metadata": {},
   "outputs": [],
   "source": [
    "#pop_lin_3, rel_lin_3 = make_experiment(cfg_lin_3,env,150,10)\n",
    "pop_lin_3 = np.load('pop_lin_3.npy')\n",
    "rel_lin_3 = np.load('rel_lin_3.npy')"
   ]
  },
  {
   "cell_type": "code",
   "execution_count": 31,
   "metadata": {},
   "outputs": [],
   "source": [
    "#pop_sig_2, rel_sig_2 = make_experiment(cfg_sig_2,env,150,10)\n",
    "pop_sig_2 = np.load('pop_sig_2.npy')\n",
    "rel_sig_2 = np.load('rel_sig_2.npy')"
   ]
  },
  {
   "cell_type": "code",
   "execution_count": 32,
   "metadata": {},
   "outputs": [
    {
     "data": {
      "image/png": "[encoded data removed]",
      "text/plain": [
       "<Figure size 432x288 with 1 Axes>"
      ]
     },
     "metadata": {
      "needs_background": "light"
     },
     "output_type": "display_data"
    }
   ],
   "source": [
    "import matplotlib.pyplot as plt\n",
    "linspace = np.arange(0,150,1)\n",
    "plt.title(environment_name)\n",
    "plt.xlabel('trails')\n",
    "plt.ylabel('classfiers')\n",
    "plt.plot(linspace,pop_lin_2,label=\"pop_lin_2\")\n",
    "plt.plot(linspace,pop_lin_3,label=\"pop_lin_3\")\n",
    "plt.plot(linspace,pop_sig_2,label=\"pop_sig_2\")\n",
    "plt.plot(linspace,pop_sig_3,label=\"pop_sig_3\")\n",
    "\n",
    "plt.legend(loc=\"upper right\")\n",
    "plt.show()"
   ]
  },
  {
   "cell_type": "code",
   "execution_count": 33,
   "metadata": {},
   "outputs": [
    {
     "data": {
      "image/png": "[encoded data removed]",
      "text/plain": [
       "<Figure size 432x288 with 1 Axes>"
      ]
     },
     "metadata": {
      "needs_background": "light"
     },
     "output_type": "display_data"
    }
   ],
   "source": [
    "plt.title(environment_name)\n",
    "plt.xlabel('trails')\n",
    "plt.ylabel('classfiers')\n",
    "plt.plot(linspace,rel_lin_2,label=\"rel_lin_2\")\n",
    "plt.plot(linspace,rel_lin_3,label=\"rel_lin_3\")\n",
    "plt.plot(linspace,rel_sig_2,label=\"rel_sig_2\")\n",
    "plt.plot(linspace,rel_sig_3,label=\"rel_sig_3\")\n",
    "\n",
    "plt.legend(loc=\"upper right\")\n",
    "plt.show()\n",
    "\n",
    "# Podpisać osie.\n",
    "# Tytuł wykresu - środowisko.\n",
    "\n",
    "# Metryka knowledge - sprawdzić i zaimplementować (w artykule było) \n",
    "# W labiryncie\n",
    "# % klasyfikatorów opisuje \n",
    "# Wykres knowledge \n",
    "\n",
    "# Przeprowadzić eksperymenty dla innych środowisk np. Maze5, Woods\n"
   ]
  },
  {
   "cell_type": "code",
   "execution_count": 18,
   "metadata": {},
   "outputs": [],
   "source": [
    "np.save('rel_lin_2.npy', rel_lin_2)\n",
    "np.save('rel_lin_3.npy', rel_lin_3)\n",
    "np.save('rel_sig_2.npy', rel_sig_2)\n",
    "np.save('rel_sig_3.npy', rel_sig_3)\n",
    "\n"
   ]
  },
  {
   "cell_type": "code",
   "execution_count": 19,
   "metadata": {},
   "outputs": [],
   "source": [
    "np.save('pop_lin_2.npy', pop_lin_2)\n",
    "np.save('pop_lin_3.npy', pop_lin_3)\n",
    "np.save('pop_sig_2.npy', pop_sig_2)\n",
    "np.save('pop_sig_3.npy', pop_sig_3)"
   ]
  }
 ],
 "metadata": {
  "interpreter": {
   "hash": "31f2aee4e71d21fbe5cf8b01ff0e069b9275f58929596ceb00d14d90e3e16cd6"
  },
  "kernelspec": {
   "display_name": "Python 3.9.5 64-bit",
   "language": "python",
   "name": "python3"
  },
  "language_info": {
   "codemirror_mode": {
    "name": "ipython",
    "version": 3
   },
   "file_extension": ".py",
   "mimetype": "text/x-python",
   "name": "python",
   "nbconvert_exporter": "python",
   "pygments_lexer": "ipython3",
   "version": "3.9.5"
  },
  "orig_nbformat": 4
 },
 "nbformat": 4,
 "nbformat_minor": 2
}
